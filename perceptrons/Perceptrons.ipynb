{
 "cells": [
  {
   "cell_type": "code",
   "execution_count": 16,
   "metadata": {
    "collapsed": false
   },
   "outputs": [],
   "source": [
    "import numpy as np\n",
    "\n",
    "class Perceptron:\n",
    "    \n",
    "    \"\"\"\n",
    "    This class models an artificial neuron with step activation function.\n",
    "    \"\"\"\n",
    "    def __init__(self, weights = np.array([1]), threshold = 0):\n",
    "        \"\"\"\n",
    "        Initialize weights and threshold based on input arguments. Note that no\n",
    "        type-checking is being performed here for simplicity.\n",
    "        \"\"\"\n",
    "        self.weights = weights.astype(float) \n",
    "        self.threshold = threshold\n",
    "\n",
    "\n",
    "    def activate(self, values):\n",
    "        \"\"\"\n",
    "        Takes in @param values, a list of numbers equal to length of weights.\n",
    "        @return the output of a threshold perceptron with given inputs based on\n",
    "        perceptron weights and threshold.\n",
    "        \"\"\"\n",
    "        # First calculate the strength with which the perceptron fires\n",
    "        strength = self.strength(values)\n",
    "        # Then return 0 or 1 depending on strength compared to threshold  \n",
    "        return int(strength > self.threshold)\n",
    "\n",
    "    def strength(self, values):\n",
    "        return np.dot(values,self.weights)\n",
    "\n",
    "    def update(self, values, train, eta=.1):\n",
    "        \"\"\"\n",
    "        Takes in a 2D array @param values consisting of a LIST of inputs and a\n",
    "        1D array @param train, consisting of a corresponding list of expected\n",
    "        outputs. Updates internal weights according to the perceptron training\n",
    "        rule using these values and an optional learning rate, @param eta.\n",
    "        \"\"\"\n",
    "        print \"train\"\n",
    "        print train\n",
    "        print \"values\"\n",
    "        print values\n",
    "\n",
    "        # For each data point: for data_point in xrange(len(values)):\n",
    "        for index, data_point in enumerate(values):\n",
    "            print \"data_point\"\n",
    "            print data_point\n",
    "            # TODO: Obtain the neuron's prediction for the data_point --> values[data_point]\n",
    "            prediction = self.activate(data_point)\n",
    "            print \"prediction\"\n",
    "            print prediction\n",
    "            \n",
    "            expected = train[index]\n",
    "            print \"expected\"\n",
    "            print expected\n",
    "            \n",
    "            # Get the prediction accuracy calculated as (expected value - predicted value)\n",
    "            # expected value = train[data_point], predicted value = prediction\n",
    "            error = expected - prediction\n",
    "            print \"error\"\n",
    "            print error\n",
    "            \n",
    "            print \"self.weights\"\n",
    "            print self.weights\n",
    "            # TODO: update self.weights based on the multiplication of:\n",
    "            # - prediction accuracy(error)\n",
    "            # - learning rate(eta)\n",
    "            # - input value(values[data_point])\n",
    "            \n",
    "            #weight_update = # TODO\n",
    "            #self.weights += weight_update\n",
    "\n",
    "            for index2, xi in enumerate(data_point):\n",
    "                self.weights[index2] += eta * error * xi\n",
    "                \n",
    "            print \"self.weights\"\n",
    "            print self.weights\n",
    "            print \"prediction\"\n",
    "            print prediction\n",
    "        print \"-------\""
   ]
  },
  {
   "cell_type": "code",
   "execution_count": 18,
   "metadata": {
    "collapsed": false
   },
   "outputs": [
    {
     "name": "stdout",
     "output_type": "stream",
     "text": [
      "activation result = 0\n",
      "strength result = -25.0\n"
     ]
    }
   ],
   "source": [
    "def test():\n",
    "    \n",
    "    input = np.array([1,2,3])\n",
    "    hidden_perceptron_1 = Perceptron(np.array([1,1,-5]),0)\n",
    "    hidden_perceptron_2 = Perceptron(np.array([3,-4,2]),0)\n",
    "    output_perceptron = Perceptron(np.array([2,-1]),0)\n",
    "    \n",
    "    # activation\n",
    "    hidden_output_1 = hidden_perceptron_1.activate(input)\n",
    "    hidden_output_2 = hidden_perceptron_2.activate(input)\n",
    "    print(\"activation result = {}\".format(output_perceptron.activate(np.array([hidden_output_1, hidden_output_2]))))\n",
    "    \n",
    "    # strength\n",
    "    hidden_output_1 = hidden_perceptron_1.strength(input)\n",
    "    hidden_output_2 = hidden_perceptron_2.strength(input)\n",
    "    print(\"strength result = {}\".format(output_perceptron.strength(np.array([hidden_output_1, hidden_output_2]))))\n",
    "    \n",
    "test()"
   ]
  },
  {
   "cell_type": "code",
   "execution_count": null,
   "metadata": {
    "collapsed": true
   },
   "outputs": [],
   "source": []
  }
 ],
 "metadata": {
  "kernelspec": {
   "display_name": "Python 2",
   "language": "python",
   "name": "python2"
  },
  "language_info": {
   "codemirror_mode": {
    "name": "ipython",
    "version": 2
   },
   "file_extension": ".py",
   "mimetype": "text/x-python",
   "name": "python",
   "nbconvert_exporter": "python",
   "pygments_lexer": "ipython2",
   "version": "2.7.13"
  }
 },
 "nbformat": 4,
 "nbformat_minor": 2
}
